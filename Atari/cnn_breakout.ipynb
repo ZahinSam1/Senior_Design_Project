import torch
import torch.nn as nn

class CNNPolicy(nn.Module):
    def __init__(self, input_shape, n_actions):
        super(CNNPolicy, self).__init__()
        self.conv = nn.Sequential(
            nn.Conv2d(input_shape[0], 32, kernel_size=8, stride=4),
            nn.ReLU(),
            nn.Conv2d(32, 64, kernel_size=4, stride=2),
            nn.ReLU(),
            nn.Conv2d(64, 64, kernel_size=3, stride=1),
            nn.ReLU()
        )
        self.fc = nn.Sequential(
            nn.Linear(self.feature_size(input_shape), 512),
            nn.ReLU(),
            nn.Linear(512, n_actions)
        )
        
    def forward(self, x):
        x = self.conv(x.float() / 255.0)  # Normalize input
        x = x.view(x.size(0), -1)
        return self.fc(x)
    
    def feature_size(self, shape):
        return self.conv(torch.zeros(1, *shape)).view(1, -1).size(1)
